{
 "cells": [
  {
   "cell_type": "code",
   "execution_count": 11,
   "metadata": {},
   "outputs": [],
   "source": [
    "import pandas as pd\n",
    "import numpy as np\n",
    "import streamlit as st"
   ]
  },
  {
   "cell_type": "code",
   "execution_count": null,
   "metadata": {},
   "outputs": [],
   "source": []
  },
  {
   "cell_type": "code",
   "execution_count": 12,
   "metadata": {},
   "outputs": [],
   "source": [
    "cross_reference = pd.read_csv('Cross-Reference Sheet.csv')\n",
    "winners_losers = pd.read_csv(\"Winners and Losers.csv\")"
   ]
  },
  {
   "cell_type": "code",
   "execution_count": 13,
   "metadata": {},
   "outputs": [],
   "source": [
    "player_decks = cross_reference.drop(\"Unnamed: 0\", axis=1)\n",
    "match_results = winners_losers.drop(\"Unnamed: 0\", axis=1)"
   ]
  },
  {
   "cell_type": "code",
   "execution_count": 14,
   "metadata": {},
   "outputs": [
    {
     "data": {
      "text/html": [
       "<div>\n",
       "<style scoped>\n",
       "    .dataframe tbody tr th:only-of-type {\n",
       "        vertical-align: middle;\n",
       "    }\n",
       "\n",
       "    .dataframe tbody tr th {\n",
       "        vertical-align: top;\n",
       "    }\n",
       "\n",
       "    .dataframe thead th {\n",
       "        text-align: right;\n",
       "    }\n",
       "</style>\n",
       "<table border=\"1\" class=\"dataframe\">\n",
       "  <thead>\n",
       "    <tr style=\"text-align: right;\">\n",
       "      <th></th>\n",
       "      <th>Winners</th>\n",
       "      <th>Losers</th>\n",
       "      <th>winner_deck</th>\n",
       "      <th>loser_deck</th>\n",
       "    </tr>\n",
       "  </thead>\n",
       "  <tbody>\n",
       "    <tr>\n",
       "      <th>14</th>\n",
       "      <td>landen kaetler</td>\n",
       "      <td>dean nezam</td>\n",
       "      <td>Arceus</td>\n",
       "      <td>Lost Zone Box</td>\n",
       "    </tr>\n",
       "    <tr>\n",
       "      <th>55</th>\n",
       "      <td>travis beckwith</td>\n",
       "      <td>brian peavy</td>\n",
       "      <td>Arceus</td>\n",
       "      <td>Roaring Moon</td>\n",
       "    </tr>\n",
       "    <tr>\n",
       "      <th>56</th>\n",
       "      <td>makani tran</td>\n",
       "      <td>brandon flowers</td>\n",
       "      <td>Arceus</td>\n",
       "      <td>Gardevoir</td>\n",
       "    </tr>\n",
       "    <tr>\n",
       "      <th>64</th>\n",
       "      <td>landen kaetler</td>\n",
       "      <td>chris brewer</td>\n",
       "      <td>Arceus</td>\n",
       "      <td>Lost Box Paradox</td>\n",
       "    </tr>\n",
       "    <tr>\n",
       "      <th>101</th>\n",
       "      <td>jacob walton</td>\n",
       "      <td>connor woolf</td>\n",
       "      <td>Arceus</td>\n",
       "      <td>Miraidon</td>\n",
       "    </tr>\n",
       "    <tr>\n",
       "      <th>109</th>\n",
       "      <td>landen kaetler</td>\n",
       "      <td>alex krekeler</td>\n",
       "      <td>Arceus</td>\n",
       "      <td>Inteleon Urshifu</td>\n",
       "    </tr>\n",
       "    <tr>\n",
       "      <th>142</th>\n",
       "      <td>jacob walton</td>\n",
       "      <td>omar taha</td>\n",
       "      <td>Arceus</td>\n",
       "      <td>Gardevoir</td>\n",
       "    </tr>\n",
       "    <tr>\n",
       "      <th>202</th>\n",
       "      <td>makani tran</td>\n",
       "      <td>amy jones</td>\n",
       "      <td>Arceus</td>\n",
       "      <td>Charizard Arceus</td>\n",
       "    </tr>\n",
       "    <tr>\n",
       "      <th>238</th>\n",
       "      <td>makani tran</td>\n",
       "      <td>brendan cevasco</td>\n",
       "      <td>Arceus</td>\n",
       "      <td>Miraidon</td>\n",
       "    </tr>\n",
       "    <tr>\n",
       "      <th>286</th>\n",
       "      <td>makani tran</td>\n",
       "      <td>alec ward</td>\n",
       "      <td>Arceus</td>\n",
       "      <td>Miraidon Flaaffy</td>\n",
       "    </tr>\n",
       "    <tr>\n",
       "      <th>317</th>\n",
       "      <td>travis beckwith</td>\n",
       "      <td>muhamed palatinus</td>\n",
       "      <td>Arceus</td>\n",
       "      <td>Roaring Moon</td>\n",
       "    </tr>\n",
       "  </tbody>\n",
       "</table>\n",
       "</div>"
      ],
      "text/plain": [
       "             Winners             Losers winner_deck        loser_deck\n",
       "14    landen kaetler         dean nezam      Arceus     Lost Zone Box\n",
       "55   travis beckwith        brian peavy      Arceus      Roaring Moon\n",
       "56       makani tran    brandon flowers      Arceus         Gardevoir\n",
       "64    landen kaetler       chris brewer      Arceus  Lost Box Paradox\n",
       "101     jacob walton       connor woolf      Arceus          Miraidon\n",
       "109   landen kaetler      alex krekeler      Arceus  Inteleon Urshifu\n",
       "142     jacob walton          omar taha      Arceus         Gardevoir\n",
       "202      makani tran          amy jones      Arceus  Charizard Arceus\n",
       "238      makani tran    brendan cevasco      Arceus          Miraidon\n",
       "286      makani tran          alec ward      Arceus  Miraidon Flaaffy\n",
       "317  travis beckwith  muhamed palatinus      Arceus      Roaring Moon"
      ]
     },
     "execution_count": 14,
     "metadata": {},
     "output_type": "execute_result"
    }
   ],
   "source": [
    "#Assisted by ChatGPT 4.0\n",
    "# Merge to add winner's deck\n",
    "match_results = match_results.merge(player_decks, left_on='Winners', right_on='Name', how='left')\n",
    "match_results.rename(columns={'Deck': 'winner_deck'}, inplace=True)\n",
    "match_results.drop('Name', axis=1, inplace=True)\n",
    "\n",
    "# Merge to add loser's deck\n",
    "match_results = match_results.merge(player_decks, left_on='Losers', right_on='Name', how='left')\n",
    "match_results.rename(columns={'Deck': 'loser_deck'}, inplace=True)\n",
    "match_results.drop('Name', axis=1, inplace=True)\n",
    "\n",
    "match_results[match_results[\"winner_deck\"] == \"Arceus\"]"
   ]
  },
  {
   "cell_type": "code",
   "execution_count": 15,
   "metadata": {},
   "outputs": [
    {
     "name": "stdout",
     "output_type": "stream",
     "text": [
      "                             matchup  total_matches  wins  win_rate\n",
      "0                (Arceus, Charizard)              2     0      0.00\n",
      "1         (Arceus, Charizard Arceus)              1     1      1.00\n",
      "2                (Arceus, Gardevoir)              2     2      1.00\n",
      "3                (Arceus, Gholdengo)              1     0      0.00\n",
      "4         (Arceus, Inteleon Urshifu)              1     1      1.00\n",
      "..                               ...            ...   ...       ...\n",
      "104     (Roaring Moon, Roaring Moon)             17    17      1.00\n",
      "105  (Roaring Moon, Snorlax Pidgeot)              1     1      1.00\n",
      "106    (Roaring Moon, Snorlax Stall)              4     1      0.25\n",
      "107          (Roaring Moon, Unknown)              4     1      0.25\n",
      "108   (Snorlax Stall, Snorlax Stall)              1     1      1.00\n",
      "\n",
      "[109 rows x 4 columns]\n"
     ]
    },
    {
     "name": "stderr",
     "output_type": "stream",
     "text": [
      "C:\\Users\\noahm\\AppData\\Local\\Temp\\ipykernel_145948\\1290745155.py:9: DeprecationWarning:\n",
      "\n",
      "DataFrameGroupBy.apply operated on the grouping columns. This behavior is deprecated, and in a future version of pandas the grouping columns will be excluded from the operation. Either pass `include_groups=False` to exclude the groupings or explicitly select the grouping columns after groupby to silence this warning.\n",
      "\n"
     ]
    }
   ],
   "source": [
    "#Assisted by ChatGPT 4.0\n",
    "# Fill NaN values with a placeholder string\n",
    "match_results['winner_deck'] = match_results['winner_deck'].fillna('Unknown')\n",
    "match_results['loser_deck'] = match_results['loser_deck'].fillna('Unknown')\n",
    "\n",
    "# Create a new column for sorted matchups\n",
    "match_results['matchup'] = match_results.apply(lambda row: tuple(sorted([row['winner_deck'], row['loser_deck']])), axis=1)\n",
    "\n",
    "matchup_stats = match_results.groupby('matchup').apply(\n",
    "    lambda group: pd.Series({\n",
    "        'total_matches': len(group),\n",
    "        'wins': sum(group['winner_deck'] == group['matchup'].apply(lambda x: x[0]))\n",
    "    })\n",
    ").reset_index()\n",
    "\n",
    "# Calculate win rate\n",
    "matchup_stats['win_rate'] = matchup_stats['wins'] / matchup_stats['total_matches']\n",
    "\n",
    "print(matchup_stats)"
   ]
  },
  {
   "cell_type": "code",
   "execution_count": 16,
   "metadata": {},
   "outputs": [
    {
     "name": "stderr",
     "output_type": "stream",
     "text": [
      "C:\\Users\\noahm\\AppData\\Local\\Temp\\ipykernel_145948\\1702325503.py:31: FutureWarning:\n",
      "\n",
      "DataFrame.applymap has been deprecated. Use DataFrame.map instead.\n",
      "\n"
     ]
    },
    {
     "ename": "ValueError",
     "evalue": "Mime type rendering requires nbformat>=4.2.0 but it is not installed",
     "output_type": "error",
     "traceback": [
      "\u001b[1;31m---------------------------------------------------------------------------\u001b[0m",
      "\u001b[1;31mValueError\u001b[0m                                Traceback (most recent call last)",
      "File \u001b[1;32mc:\\Users\\noahm\\anaconda3\\envs\\poke_env\\lib\\site-packages\\IPython\\core\\formatters.py:922\u001b[0m, in \u001b[0;36mIPythonDisplayFormatter.__call__\u001b[1;34m(self, obj)\u001b[0m\n\u001b[0;32m    920\u001b[0m method \u001b[38;5;241m=\u001b[39m get_real_method(obj, \u001b[38;5;28mself\u001b[39m\u001b[38;5;241m.\u001b[39mprint_method)\n\u001b[0;32m    921\u001b[0m \u001b[38;5;28;01mif\u001b[39;00m method \u001b[38;5;129;01mis\u001b[39;00m \u001b[38;5;129;01mnot\u001b[39;00m \u001b[38;5;28;01mNone\u001b[39;00m:\n\u001b[1;32m--> 922\u001b[0m     \u001b[43mmethod\u001b[49m\u001b[43m(\u001b[49m\u001b[43m)\u001b[49m\n\u001b[0;32m    923\u001b[0m     \u001b[38;5;28;01mreturn\u001b[39;00m \u001b[38;5;28;01mTrue\u001b[39;00m\n",
      "File \u001b[1;32mc:\\Users\\noahm\\anaconda3\\envs\\poke_env\\lib\\site-packages\\plotly\\basedatatypes.py:832\u001b[0m, in \u001b[0;36mBaseFigure._ipython_display_\u001b[1;34m(self)\u001b[0m\n\u001b[0;32m    829\u001b[0m \u001b[38;5;28;01mimport\u001b[39;00m \u001b[38;5;21;01mplotly\u001b[39;00m\u001b[38;5;21;01m.\u001b[39;00m\u001b[38;5;21;01mio\u001b[39;00m \u001b[38;5;28;01mas\u001b[39;00m \u001b[38;5;21;01mpio\u001b[39;00m\n\u001b[0;32m    831\u001b[0m \u001b[38;5;28;01mif\u001b[39;00m pio\u001b[38;5;241m.\u001b[39mrenderers\u001b[38;5;241m.\u001b[39mrender_on_display \u001b[38;5;129;01mand\u001b[39;00m pio\u001b[38;5;241m.\u001b[39mrenderers\u001b[38;5;241m.\u001b[39mdefault:\n\u001b[1;32m--> 832\u001b[0m     \u001b[43mpio\u001b[49m\u001b[38;5;241;43m.\u001b[39;49m\u001b[43mshow\u001b[49m\u001b[43m(\u001b[49m\u001b[38;5;28;43mself\u001b[39;49m\u001b[43m)\u001b[49m\n\u001b[0;32m    833\u001b[0m \u001b[38;5;28;01melse\u001b[39;00m:\n\u001b[0;32m    834\u001b[0m     \u001b[38;5;28mprint\u001b[39m(\u001b[38;5;28mrepr\u001b[39m(\u001b[38;5;28mself\u001b[39m))\n",
      "File \u001b[1;32mc:\\Users\\noahm\\anaconda3\\envs\\poke_env\\lib\\site-packages\\plotly\\io\\_renderers.py:394\u001b[0m, in \u001b[0;36mshow\u001b[1;34m(fig, renderer, validate, **kwargs)\u001b[0m\n\u001b[0;32m    389\u001b[0m         \u001b[38;5;28;01mraise\u001b[39;00m \u001b[38;5;167;01mValueError\u001b[39;00m(\n\u001b[0;32m    390\u001b[0m             \u001b[38;5;124m\"\u001b[39m\u001b[38;5;124mMime type rendering requires ipython but it is not installed\u001b[39m\u001b[38;5;124m\"\u001b[39m\n\u001b[0;32m    391\u001b[0m         )\n\u001b[0;32m    393\u001b[0m     \u001b[38;5;28;01mif\u001b[39;00m \u001b[38;5;129;01mnot\u001b[39;00m nbformat \u001b[38;5;129;01mor\u001b[39;00m Version(nbformat\u001b[38;5;241m.\u001b[39m__version__) \u001b[38;5;241m<\u001b[39m Version(\u001b[38;5;124m\"\u001b[39m\u001b[38;5;124m4.2.0\u001b[39m\u001b[38;5;124m\"\u001b[39m):\n\u001b[1;32m--> 394\u001b[0m         \u001b[38;5;28;01mraise\u001b[39;00m \u001b[38;5;167;01mValueError\u001b[39;00m(\n\u001b[0;32m    395\u001b[0m             \u001b[38;5;124m\"\u001b[39m\u001b[38;5;124mMime type rendering requires nbformat>=4.2.0 but it is not installed\u001b[39m\u001b[38;5;124m\"\u001b[39m\n\u001b[0;32m    396\u001b[0m         )\n\u001b[0;32m    398\u001b[0m     ipython_display\u001b[38;5;241m.\u001b[39mdisplay(bundle, raw\u001b[38;5;241m=\u001b[39m\u001b[38;5;28;01mTrue\u001b[39;00m)\n\u001b[0;32m    400\u001b[0m \u001b[38;5;66;03m# external renderers\u001b[39;00m\n",
      "\u001b[1;31mValueError\u001b[0m: Mime type rendering requires nbformat>=4.2.0 but it is not installed"
     ]
    },
    {
     "data": {
      "application/vnd.plotly.v1+json": {
       "config": {
        "plotlyServerURL": "https://plot.ly"
       },
       "data": [
        {
         "coloraxis": "coloraxis",
         "hovertemplate": "Deck 1: %{x}<br>Deck 2: %{y}<br>Win Rate (%): %{z}<extra></extra>",
         "name": "0",
         "texttemplate": "%{z}",
         "type": "heatmap",
         "x": [
          "Arceus",
          "Charizard",
          "Charizard Arceus",
          "Chien-Pao Baxcalibur",
          "Entei Iron Valiant",
          "Gardevoir",
          "Gholdengo",
          "Giratina LZ Box",
          "Inteleon Urshifu",
          "Klawf Electrode",
          "Lost Box Charizard",
          "Lost Box Paradox",
          "Lost Zone Box",
          "Lugia Archeops",
          "Mew Genesect",
          "Miraidon",
          "Miraidon Flaaffy",
          "Roaring Moon",
          "Snorlax Pidgeot",
          "Snorlax Stall"
         ],
         "xaxis": "x",
         "y": [
          "Arceus",
          "Charizard",
          "Charizard Arceus",
          "Chien-Pao Baxcalibur",
          "Entei Iron Valiant",
          "Gardevoir",
          "Gholdengo",
          "Giratina LZ Box",
          "Inteleon Urshifu",
          "Klawf Electrode",
          "Lost Box Charizard",
          "Lost Box Paradox",
          "Lost Zone Box",
          "Lugia Archeops",
          "Mew Genesect",
          "Miraidon",
          "Miraidon Flaaffy",
          "Roaring Moon",
          "Snorlax Pidgeot",
          "Snorlax Stall"
         ],
         "yaxis": "y",
         "z": [
          [
           50,
           0,
           100,
           0,
           0,
           100,
           0,
           0,
           100,
           0,
           0,
           100,
           33.33333333333333,
           0,
           0,
           66.66666666666666,
           100,
           66.66666666666666,
           0,
           0
          ],
          [
           100,
           50,
           100,
           0,
           0,
           50,
           40,
           33.33333333333333,
           0,
           0,
           50,
           0,
           50,
           0,
           37.5,
           0,
           0,
           50,
           0,
           0
          ],
          [
           0,
           0,
           50,
           0,
           0,
           0,
           0,
           0,
           0,
           100,
           0,
           0,
           0,
           0,
           0,
           0,
           0,
           0,
           0,
           0
          ],
          [
           0,
           100,
           0,
           50,
           0,
           66.66666666666666,
           100,
           100,
           0,
           0,
           100,
           100,
           50,
           0,
           0,
           0,
           0,
           83.33333333333334,
           0,
           100
          ],
          [
           0,
           100,
           0,
           0,
           50,
           0,
           0,
           33.33333333333333,
           0,
           100,
           0,
           0,
           0,
           0,
           0,
           0,
           0,
           33.33333333333333,
           0,
           100
          ],
          [
           0,
           50,
           0,
           33.333333333333336,
           0,
           50,
           0,
           33.33333333333333,
           100,
           0,
           100,
           50,
           0,
           0,
           0,
           100,
           0,
           63.63636363636363,
           0,
           0
          ],
          [
           100,
           60,
           0,
           0,
           0,
           0,
           50,
           33.33333333333333,
           0,
           100,
           0,
           50,
           50,
           0,
           100,
           0,
           0,
           100,
           0,
           100
          ],
          [
           0,
           66.66666666666667,
           100,
           0,
           66.66666666666667,
           66.66666666666667,
           66.66666666666667,
           50,
           0,
           0,
           40,
           33.33333333333333,
           40,
           0,
           33.33333333333333,
           0,
           0,
           35.294117647058826,
           100,
           85.71428571428571
          ],
          [
           0,
           100,
           0,
           0,
           0,
           0,
           0,
           0,
           50,
           0,
           0,
           0,
           0,
           0,
           0,
           0,
           0,
           0,
           0,
           0
          ],
          [
           0,
           0,
           0,
           0,
           0,
           100,
           0,
           0,
           0,
           50,
           0,
           0,
           0,
           0,
           0,
           0,
           0,
           50,
           0,
           100
          ],
          [
           0,
           50,
           0,
           0,
           0,
           0,
           0,
           60,
           0,
           100,
           50,
           0,
           0,
           0,
           0,
           0,
           0,
           60,
           0,
           100
          ],
          [
           0,
           0,
           0,
           0,
           100,
           50,
           50,
           66.66666666666667,
           0,
           0,
           100,
           50,
           100,
           0,
           0,
           0,
           0,
           25,
           0,
           100
          ],
          [
           66.66666666666667,
           50,
           0,
           50,
           100,
           0,
           50,
           60,
           0,
           0,
           100,
           0,
           50,
           0,
           100,
           75,
           0,
           0,
           0,
           50
          ],
          [
           0,
           100,
           0,
           0,
           0,
           0,
           0,
           0,
           0,
           0,
           0,
           0,
           0,
           50,
           0,
           0,
           0,
           0,
           0,
           0
          ],
          [
           100,
           62.5,
           0,
           100,
           0,
           100,
           0,
           66.66666666666667,
           0,
           100,
           0,
           0,
           0,
           0,
           50,
           100,
           0,
           50,
           100,
           50
          ],
          [
           33.333333333333336,
           0,
           0,
           0,
           0,
           0,
           0,
           100,
           0,
           0,
           100,
           0,
           25,
           0,
           0,
           50,
           0,
           0,
           0,
           100
          ],
          [
           0,
           0,
           0,
           0,
           100,
           100,
           100,
           100,
           0,
           0,
           0,
           0,
           0,
           0,
           100,
           0,
           50,
           100,
           0,
           0
          ],
          [
           33.333333333333336,
           50,
           100,
           16.666666666666664,
           66.66666666666667,
           36.36363636363637,
           0,
           64.70588235294117,
           0,
           50,
           40,
           75,
           100,
           100,
           50,
           0,
           0,
           50,
           100,
           25
          ],
          [
           0,
           0,
           0,
           100,
           0,
           100,
           0,
           0,
           0,
           0,
           0,
           0,
           0,
           0,
           0,
           0,
           0,
           0,
           50,
           0
          ],
          [
           0,
           100,
           0,
           0,
           0,
           100,
           0,
           14.28571428571429,
           0,
           0,
           0,
           0,
           50,
           100,
           50,
           0,
           0,
           75,
           0,
           50
          ]
         ]
        }
       ],
       "layout": {
        "coloraxis": {
         "colorbar": {
          "title": {
           "text": "Win Rate (%)"
          }
         },
         "colorscale": [
          [
           0,
           "red"
          ],
          [
           0.5,
           "yellow"
          ],
          [
           1,
           "green"
          ]
         ]
        },
        "margin": {
         "t": 60
        },
        "template": {
         "data": {
          "candlestick": [
           {
            "decreasing": {
             "line": {
              "color": "#000033"
             }
            },
            "increasing": {
             "line": {
              "color": "#000032"
             }
            },
            "type": "candlestick"
           }
          ],
          "contour": [
           {
            "colorscale": [
             [
              0,
              "#000011"
             ],
             [
              0.1111111111111111,
              "#000012"
             ],
             [
              0.2222222222222222,
              "#000013"
             ],
             [
              0.3333333333333333,
              "#000014"
             ],
             [
              0.4444444444444444,
              "#000015"
             ],
             [
              0.5555555555555556,
              "#000016"
             ],
             [
              0.6666666666666666,
              "#000017"
             ],
             [
              0.7777777777777778,
              "#000018"
             ],
             [
              0.8888888888888888,
              "#000019"
             ],
             [
              1,
              "#000020"
             ]
            ],
            "type": "contour"
           }
          ],
          "contourcarpet": [
           {
            "colorscale": [
             [
              0,
              "#000011"
             ],
             [
              0.1111111111111111,
              "#000012"
             ],
             [
              0.2222222222222222,
              "#000013"
             ],
             [
              0.3333333333333333,
              "#000014"
             ],
             [
              0.4444444444444444,
              "#000015"
             ],
             [
              0.5555555555555556,
              "#000016"
             ],
             [
              0.6666666666666666,
              "#000017"
             ],
             [
              0.7777777777777778,
              "#000018"
             ],
             [
              0.8888888888888888,
              "#000019"
             ],
             [
              1,
              "#000020"
             ]
            ],
            "type": "contourcarpet"
           }
          ],
          "heatmap": [
           {
            "colorscale": [
             [
              0,
              "#000011"
             ],
             [
              0.1111111111111111,
              "#000012"
             ],
             [
              0.2222222222222222,
              "#000013"
             ],
             [
              0.3333333333333333,
              "#000014"
             ],
             [
              0.4444444444444444,
              "#000015"
             ],
             [
              0.5555555555555556,
              "#000016"
             ],
             [
              0.6666666666666666,
              "#000017"
             ],
             [
              0.7777777777777778,
              "#000018"
             ],
             [
              0.8888888888888888,
              "#000019"
             ],
             [
              1,
              "#000020"
             ]
            ],
            "type": "heatmap"
           }
          ],
          "histogram2d": [
           {
            "colorscale": [
             [
              0,
              "#000011"
             ],
             [
              0.1111111111111111,
              "#000012"
             ],
             [
              0.2222222222222222,
              "#000013"
             ],
             [
              0.3333333333333333,
              "#000014"
             ],
             [
              0.4444444444444444,
              "#000015"
             ],
             [
              0.5555555555555556,
              "#000016"
             ],
             [
              0.6666666666666666,
              "#000017"
             ],
             [
              0.7777777777777778,
              "#000018"
             ],
             [
              0.8888888888888888,
              "#000019"
             ],
             [
              1,
              "#000020"
             ]
            ],
            "type": "histogram2d"
           }
          ],
          "icicle": [
           {
            "textfont": {
             "color": "white"
            },
            "type": "icicle"
           }
          ],
          "sankey": [
           {
            "textfont": {
             "color": "#000036"
            },
            "type": "sankey"
           }
          ],
          "scatter": [
           {
            "marker": {
             "line": {
              "width": 0
             }
            },
            "type": "scatter"
           }
          ],
          "table": [
           {
            "cells": {
             "fill": {
              "color": "#000038"
             },
             "font": {
              "color": "#000037"
             },
             "line": {
              "color": "#000039"
             }
            },
            "header": {
             "fill": {
              "color": "#000040"
             },
             "font": {
              "color": "#000036"
             },
             "line": {
              "color": "#000039"
             }
            },
            "type": "table"
           }
          ],
          "waterfall": [
           {
            "connector": {
             "line": {
              "color": "#000036",
              "width": 2
             }
            },
            "decreasing": {
             "marker": {
              "color": "#000033"
             }
            },
            "increasing": {
             "marker": {
              "color": "#000032"
             }
            },
            "totals": {
             "marker": {
              "color": "#000034"
             }
            },
            "type": "waterfall"
           }
          ]
         },
         "layout": {
          "coloraxis": {
           "colorscale": [
            [
             0,
             "#000011"
            ],
            [
             0.1111111111111111,
             "#000012"
            ],
            [
             0.2222222222222222,
             "#000013"
            ],
            [
             0.3333333333333333,
             "#000014"
            ],
            [
             0.4444444444444444,
             "#000015"
            ],
            [
             0.5555555555555556,
             "#000016"
            ],
            [
             0.6666666666666666,
             "#000017"
            ],
            [
             0.7777777777777778,
             "#000018"
            ],
            [
             0.8888888888888888,
             "#000019"
            ],
            [
             1,
             "#000020"
            ]
           ]
          },
          "colorscale": {
           "diverging": [
            [
             0,
             "#000021"
            ],
            [
             0.1,
             "#000022"
            ],
            [
             0.2,
             "#000023"
            ],
            [
             0.3,
             "#000024"
            ],
            [
             0.4,
             "#000025"
            ],
            [
             0.5,
             "#000026"
            ],
            [
             0.6,
             "#000027"
            ],
            [
             0.7,
             "#000028"
            ],
            [
             0.8,
             "#000029"
            ],
            [
             0.9,
             "#000030"
            ],
            [
             1,
             "#000031"
            ]
           ],
           "sequential": [
            [
             0,
             "#000011"
            ],
            [
             0.1111111111111111,
             "#000012"
            ],
            [
             0.2222222222222222,
             "#000013"
            ],
            [
             0.3333333333333333,
             "#000014"
            ],
            [
             0.4444444444444444,
             "#000015"
            ],
            [
             0.5555555555555556,
             "#000016"
            ],
            [
             0.6666666666666666,
             "#000017"
            ],
            [
             0.7777777777777778,
             "#000018"
            ],
            [
             0.8888888888888888,
             "#000019"
            ],
            [
             1,
             "#000020"
            ]
           ],
           "sequentialminus": [
            [
             0,
             "#000011"
            ],
            [
             0.1111111111111111,
             "#000012"
            ],
            [
             0.2222222222222222,
             "#000013"
            ],
            [
             0.3333333333333333,
             "#000014"
            ],
            [
             0.4444444444444444,
             "#000015"
            ],
            [
             0.5555555555555556,
             "#000016"
            ],
            [
             0.6666666666666666,
             "#000017"
            ],
            [
             0.7777777777777778,
             "#000018"
            ],
            [
             0.8888888888888888,
             "#000019"
            ],
            [
             1,
             "#000020"
            ]
           ]
          },
          "colorway": [
           "#000001",
           "#000002",
           "#000003",
           "#000004",
           "#000005",
           "#000006",
           "#000007",
           "#000008",
           "#000009",
           "#000010"
          ]
         }
        },
        "title": {
         "text": "Win Rates for Pokemon TCG Matchups"
        },
        "xaxis": {
         "anchor": "y",
         "domain": [
          0,
          1
         ],
         "title": {
          "text": "Deck 1"
         }
        },
        "yaxis": {
         "anchor": "x",
         "autorange": "reversed",
         "domain": [
          0,
          1
         ],
         "title": {
          "text": "Deck 2"
         }
        }
       }
      },
      "text/html": [
       "<div>                        <script type=\"text/javascript\">window.PlotlyConfig = {MathJaxConfig: 'local'};</script>\n",
       "        <script charset=\"utf-8\" src=\"https://cdn.plot.ly/plotly-2.29.1.min.js\"></script>                <div id=\"8a62abdb-6e1f-45ee-9a60-9543c33e80c8\" class=\"plotly-graph-div\" style=\"height:100%; width:100%;\"></div>            <script type=\"text/javascript\">                                    window.PLOTLYENV=window.PLOTLYENV || {};                                    if (document.getElementById(\"8a62abdb-6e1f-45ee-9a60-9543c33e80c8\")) {                    Plotly.newPlot(                        \"8a62abdb-6e1f-45ee-9a60-9543c33e80c8\",                        [{\"coloraxis\":\"coloraxis\",\"name\":\"0\",\"texttemplate\":\"%{z}\",\"x\":[\"Arceus\",\"Charizard\",\"Charizard Arceus\",\"Chien-Pao Baxcalibur\",\"Entei Iron Valiant\",\"Gardevoir\",\"Gholdengo\",\"Giratina LZ Box\",\"Inteleon Urshifu\",\"Klawf Electrode\",\"Lost Box Charizard\",\"Lost Box Paradox\",\"Lost Zone Box\",\"Lugia Archeops\",\"Mew Genesect\",\"Miraidon\",\"Miraidon Flaaffy\",\"Roaring Moon\",\"Snorlax Pidgeot\",\"Snorlax Stall\"],\"y\":[\"Arceus\",\"Charizard\",\"Charizard Arceus\",\"Chien-Pao Baxcalibur\",\"Entei Iron Valiant\",\"Gardevoir\",\"Gholdengo\",\"Giratina LZ Box\",\"Inteleon Urshifu\",\"Klawf Electrode\",\"Lost Box Charizard\",\"Lost Box Paradox\",\"Lost Zone Box\",\"Lugia Archeops\",\"Mew Genesect\",\"Miraidon\",\"Miraidon Flaaffy\",\"Roaring Moon\",\"Snorlax Pidgeot\",\"Snorlax Stall\"],\"z\":[[50.0,0.0,100.0,0.0,0.0,100.0,0.0,0.0,100.0,0.0,0.0,100.0,33.33333333333333,0.0,0.0,66.66666666666666,100.0,66.66666666666666,0.0,0.0],[100.0,50.0,100.0,0.0,0.0,50.0,40.0,33.33333333333333,0.0,0.0,50.0,0.0,50.0,0.0,37.5,0.0,0.0,50.0,0.0,0.0],[0.0,0.0,50.0,0.0,0.0,0.0,0.0,0.0,0.0,100.0,0.0,0.0,0.0,0.0,0.0,0.0,0.0,0.0,0.0,0.0],[0.0,100.0,0.0,50.0,0.0,66.66666666666666,100.0,100.0,0.0,0.0,100.0,100.0,50.0,0.0,0.0,0.0,0.0,83.33333333333334,0.0,100.0],[0.0,100.0,0.0,0.0,50.0,0.0,0.0,33.33333333333333,0.0,100.0,0.0,0.0,0.0,0.0,0.0,0.0,0.0,33.33333333333333,0.0,100.0],[0.0,50.0,0.0,33.333333333333336,0.0,50.0,0.0,33.33333333333333,100.0,0.0,100.0,50.0,0.0,0.0,0.0,100.0,0.0,63.63636363636363,0.0,0.0],[100.0,60.0,0.0,0.0,0.0,0.0,50.0,33.33333333333333,0.0,100.0,0.0,50.0,50.0,0.0,100.0,0.0,0.0,100.0,0.0,100.0],[0.0,66.66666666666667,100.0,0.0,66.66666666666667,66.66666666666667,66.66666666666667,50.0,0.0,0.0,40.0,33.33333333333333,40.0,0.0,33.33333333333333,0.0,0.0,35.294117647058826,100.0,85.71428571428571],[0.0,100.0,0.0,0.0,0.0,0.0,0.0,0.0,50.0,0.0,0.0,0.0,0.0,0.0,0.0,0.0,0.0,0.0,0.0,0.0],[0.0,0.0,0.0,0.0,0.0,100.0,0.0,0.0,0.0,50.0,0.0,0.0,0.0,0.0,0.0,0.0,0.0,50.0,0.0,100.0],[0.0,50.0,0.0,0.0,0.0,0.0,0.0,60.0,0.0,100.0,50.0,0.0,0.0,0.0,0.0,0.0,0.0,60.0,0.0,100.0],[0.0,0.0,0.0,0.0,100.0,50.0,50.0,66.66666666666667,0.0,0.0,100.0,50.0,100.0,0.0,0.0,0.0,0.0,25.0,0.0,100.0],[66.66666666666667,50.0,0.0,50.0,100.0,0.0,50.0,60.0,0.0,0.0,100.0,0.0,50.0,0.0,100.0,75.0,0.0,0.0,0.0,50.0],[0.0,100.0,0.0,0.0,0.0,0.0,0.0,0.0,0.0,0.0,0.0,0.0,0.0,50.0,0.0,0.0,0.0,0.0,0.0,0.0],[100.0,62.5,0.0,100.0,0.0,100.0,0.0,66.66666666666667,0.0,100.0,0.0,0.0,0.0,0.0,50.0,100.0,0.0,50.0,100.0,50.0],[33.333333333333336,0.0,0.0,0.0,0.0,0.0,0.0,100.0,0.0,0.0,100.0,0.0,25.0,0.0,0.0,50.0,0.0,0.0,0.0,100.0],[0.0,0.0,0.0,0.0,100.0,100.0,100.0,100.0,0.0,0.0,0.0,0.0,0.0,0.0,100.0,0.0,50.0,100.0,0.0,0.0],[33.333333333333336,50.0,100.0,16.666666666666664,66.66666666666667,36.36363636363637,0.0,64.70588235294117,0.0,50.0,40.0,75.0,100.0,100.0,50.0,0.0,0.0,50.0,100.0,25.0],[0.0,0.0,0.0,100.0,0.0,100.0,0.0,0.0,0.0,0.0,0.0,0.0,0.0,0.0,0.0,0.0,0.0,0.0,50.0,0.0],[0.0,100.0,0.0,0.0,0.0,100.0,0.0,14.28571428571429,0.0,0.0,0.0,0.0,50.0,100.0,50.0,0.0,0.0,75.0,0.0,50.0]],\"type\":\"heatmap\",\"xaxis\":\"x\",\"yaxis\":\"y\",\"hovertemplate\":\"Deck 1: %{x}\\u003cbr\\u003eDeck 2: %{y}\\u003cbr\\u003eWin Rate (%): %{z}\\u003cextra\\u003e\\u003c\\u002fextra\\u003e\"}],                        {\"template\":{\"data\":{\"candlestick\":[{\"decreasing\":{\"line\":{\"color\":\"#000033\"}},\"increasing\":{\"line\":{\"color\":\"#000032\"}},\"type\":\"candlestick\"}],\"contourcarpet\":[{\"colorscale\":[[0.0,\"#000011\"],[0.1111111111111111,\"#000012\"],[0.2222222222222222,\"#000013\"],[0.3333333333333333,\"#000014\"],[0.4444444444444444,\"#000015\"],[0.5555555555555556,\"#000016\"],[0.6666666666666666,\"#000017\"],[0.7777777777777778,\"#000018\"],[0.8888888888888888,\"#000019\"],[1.0,\"#000020\"]],\"type\":\"contourcarpet\"}],\"contour\":[{\"colorscale\":[[0.0,\"#000011\"],[0.1111111111111111,\"#000012\"],[0.2222222222222222,\"#000013\"],[0.3333333333333333,\"#000014\"],[0.4444444444444444,\"#000015\"],[0.5555555555555556,\"#000016\"],[0.6666666666666666,\"#000017\"],[0.7777777777777778,\"#000018\"],[0.8888888888888888,\"#000019\"],[1.0,\"#000020\"]],\"type\":\"contour\"}],\"heatmap\":[{\"colorscale\":[[0.0,\"#000011\"],[0.1111111111111111,\"#000012\"],[0.2222222222222222,\"#000013\"],[0.3333333333333333,\"#000014\"],[0.4444444444444444,\"#000015\"],[0.5555555555555556,\"#000016\"],[0.6666666666666666,\"#000017\"],[0.7777777777777778,\"#000018\"],[0.8888888888888888,\"#000019\"],[1.0,\"#000020\"]],\"type\":\"heatmap\"}],\"histogram2d\":[{\"colorscale\":[[0.0,\"#000011\"],[0.1111111111111111,\"#000012\"],[0.2222222222222222,\"#000013\"],[0.3333333333333333,\"#000014\"],[0.4444444444444444,\"#000015\"],[0.5555555555555556,\"#000016\"],[0.6666666666666666,\"#000017\"],[0.7777777777777778,\"#000018\"],[0.8888888888888888,\"#000019\"],[1.0,\"#000020\"]],\"type\":\"histogram2d\"}],\"icicle\":[{\"textfont\":{\"color\":\"white\"},\"type\":\"icicle\"}],\"sankey\":[{\"textfont\":{\"color\":\"#000036\"},\"type\":\"sankey\"}],\"scatter\":[{\"marker\":{\"line\":{\"width\":0}},\"type\":\"scatter\"}],\"table\":[{\"cells\":{\"fill\":{\"color\":\"#000038\"},\"font\":{\"color\":\"#000037\"},\"line\":{\"color\":\"#000039\"}},\"header\":{\"fill\":{\"color\":\"#000040\"},\"font\":{\"color\":\"#000036\"},\"line\":{\"color\":\"#000039\"}},\"type\":\"table\"}],\"waterfall\":[{\"connector\":{\"line\":{\"color\":\"#000036\",\"width\":2}},\"decreasing\":{\"marker\":{\"color\":\"#000033\"}},\"increasing\":{\"marker\":{\"color\":\"#000032\"}},\"totals\":{\"marker\":{\"color\":\"#000034\"}},\"type\":\"waterfall\"}]},\"layout\":{\"coloraxis\":{\"colorscale\":[[0.0,\"#000011\"],[0.1111111111111111,\"#000012\"],[0.2222222222222222,\"#000013\"],[0.3333333333333333,\"#000014\"],[0.4444444444444444,\"#000015\"],[0.5555555555555556,\"#000016\"],[0.6666666666666666,\"#000017\"],[0.7777777777777778,\"#000018\"],[0.8888888888888888,\"#000019\"],[1.0,\"#000020\"]]},\"colorscale\":{\"diverging\":[[0.0,\"#000021\"],[0.1,\"#000022\"],[0.2,\"#000023\"],[0.3,\"#000024\"],[0.4,\"#000025\"],[0.5,\"#000026\"],[0.6,\"#000027\"],[0.7,\"#000028\"],[0.8,\"#000029\"],[0.9,\"#000030\"],[1.0,\"#000031\"]],\"sequential\":[[0.0,\"#000011\"],[0.1111111111111111,\"#000012\"],[0.2222222222222222,\"#000013\"],[0.3333333333333333,\"#000014\"],[0.4444444444444444,\"#000015\"],[0.5555555555555556,\"#000016\"],[0.6666666666666666,\"#000017\"],[0.7777777777777778,\"#000018\"],[0.8888888888888888,\"#000019\"],[1.0,\"#000020\"]],\"sequentialminus\":[[0.0,\"#000011\"],[0.1111111111111111,\"#000012\"],[0.2222222222222222,\"#000013\"],[0.3333333333333333,\"#000014\"],[0.4444444444444444,\"#000015\"],[0.5555555555555556,\"#000016\"],[0.6666666666666666,\"#000017\"],[0.7777777777777778,\"#000018\"],[0.8888888888888888,\"#000019\"],[1.0,\"#000020\"]]},\"colorway\":[\"#000001\",\"#000002\",\"#000003\",\"#000004\",\"#000005\",\"#000006\",\"#000007\",\"#000008\",\"#000009\",\"#000010\"]}},\"xaxis\":{\"anchor\":\"y\",\"domain\":[0.0,1.0],\"title\":{\"text\":\"Deck 1\"}},\"yaxis\":{\"anchor\":\"x\",\"domain\":[0.0,1.0],\"autorange\":\"reversed\",\"title\":{\"text\":\"Deck 2\"}},\"coloraxis\":{\"colorbar\":{\"title\":{\"text\":\"Win Rate (%)\"}},\"colorscale\":[[0.0,\"red\"],[0.5,\"yellow\"],[1.0,\"green\"]]},\"margin\":{\"t\":60},\"title\":{\"text\":\"Win Rates for Pokemon TCG Matchups\"}},                        {\"responsive\": true}                    )                };                            </script>        </div>"
      ],
      "text/plain": [
       "Figure({\n",
       "    'data': [{'coloraxis': 'coloraxis',\n",
       "              'hovertemplate': 'Deck 1: %{x}<br>Deck 2: %{y}<br>Win Rate (%): %{z}<extra></extra>',\n",
       "              'name': '0',\n",
       "              'texttemplate': '%{z}',\n",
       "              'type': 'heatmap',\n",
       "              'x': array(['Arceus', 'Charizard', 'Charizard Arceus', 'Chien-Pao Baxcalibur',\n",
       "                          'Entei Iron Valiant', 'Gardevoir', 'Gholdengo', 'Giratina LZ Box',\n",
       "                          'Inteleon Urshifu', 'Klawf Electrode', 'Lost Box Charizard',\n",
       "                          'Lost Box Paradox', 'Lost Zone Box', 'Lugia Archeops', 'Mew Genesect',\n",
       "                          'Miraidon', 'Miraidon Flaaffy', 'Roaring Moon', 'Snorlax Pidgeot',\n",
       "                          'Snorlax Stall'], dtype=object),\n",
       "              'xaxis': 'x',\n",
       "              'y': array(['Arceus', 'Charizard', 'Charizard Arceus', 'Chien-Pao Baxcalibur',\n",
       "                          'Entei Iron Valiant', 'Gardevoir', 'Gholdengo', 'Giratina LZ Box',\n",
       "                          'Inteleon Urshifu', 'Klawf Electrode', 'Lost Box Charizard',\n",
       "                          'Lost Box Paradox', 'Lost Zone Box', 'Lugia Archeops', 'Mew Genesect',\n",
       "                          'Miraidon', 'Miraidon Flaaffy', 'Roaring Moon', 'Snorlax Pidgeot',\n",
       "                          'Snorlax Stall'], dtype=object),\n",
       "              'yaxis': 'y',\n",
       "              'z': array([[ 50.        ,   0.        , 100.        , ...,  66.66666667,\n",
       "                             0.        ,   0.        ],\n",
       "                          [100.        ,  50.        , 100.        , ...,  50.        ,\n",
       "                             0.        ,   0.        ],\n",
       "                          [  0.        ,   0.        ,  50.        , ...,   0.        ,\n",
       "                             0.        ,   0.        ],\n",
       "                          ...,\n",
       "                          [ 33.33333333,  50.        , 100.        , ...,  50.        ,\n",
       "                           100.        ,  25.        ],\n",
       "                          [  0.        ,   0.        ,   0.        , ...,   0.        ,\n",
       "                            50.        ,   0.        ],\n",
       "                          [  0.        , 100.        ,   0.        , ...,  75.        ,\n",
       "                             0.        ,  50.        ]])}],\n",
       "    'layout': {'coloraxis': {'colorbar': {'title': {'text': 'Win Rate (%)'}},\n",
       "                             'colorscale': [[0.0, 'red'], [0.5, 'yellow'], [1.0,\n",
       "                                            'green']]},\n",
       "               'margin': {'t': 60},\n",
       "               'template': '...',\n",
       "               'title': {'text': 'Win Rates for Pokemon TCG Matchups'},\n",
       "               'xaxis': {'anchor': 'y', 'domain': [0.0, 1.0], 'title': {'text': 'Deck 1'}},\n",
       "               'yaxis': {'anchor': 'x', 'autorange': 'reversed', 'domain': [0.0, 1.0], 'title': {'text': 'Deck 2'}}}\n",
       "})"
      ]
     },
     "execution_count": 16,
     "metadata": {},
     "output_type": "execute_result"
    }
   ],
   "source": [
    "#Assisted by ChatGPT 4.0\n",
    "#import matplotlib.pyplot as plt\n",
    "import plotly.express as px\n",
    "\n",
    "# Extract unique decks\n",
    "decks = set()\n",
    "for matchup in matchup_stats['matchup']:\n",
    "    decks.update(matchup)\n",
    "decks = sorted(decks)\n",
    "\n",
    "# Create a matrix for the heatmap\n",
    "heatmap_data = pd.DataFrame(index=decks, columns=decks, data=0.0)\n",
    "for index, row in matchup_stats.iterrows():\n",
    "    deck1, deck2 = row['matchup']\n",
    "    win_rate = row['wins'] / row['total_matches']\n",
    "    heatmap_data.loc[deck1, deck2] = win_rate\n",
    "    heatmap_data.loc[deck2, deck1] = 1 - win_rate  # Assuming symmetrical matchups\n",
    "\n",
    "# Adjust for mirror matchups\n",
    "for deck in decks:\n",
    "    heatmap_data.loc[deck, deck] = 0.5\n",
    "\n",
    "# Drop the 'Unknown' row and column\n",
    "heatmap_data = heatmap_data.drop('Unknown', axis=0)  # Drop row\n",
    "heatmap_data = heatmap_data.drop('Unknown', axis=1)  # Drop column\n",
    "\n",
    "# Convert win rates to percentages\n",
    "heatmap_data_percent = heatmap_data * 100\n",
    "\n",
    "# Format the annotations as percentages\n",
    "annotations = heatmap_data_percent.applymap(lambda x: f'{x:0.1f}%')\n",
    "\n",
    "import plotly.express as px\n",
    "\n",
    "# Create the heatmap with Plotly\n",
    "fig = px.imshow(heatmap_data_percent,\n",
    "                labels=dict(x='Deck 1', y='Deck 2', color='Win Rate (%)'),\n",
    "                x=heatmap_data_percent.columns,\n",
    "                y=heatmap_data_percent.index,\n",
    "                text_auto=True,  # Automatically add text\n",
    "                aspect='auto',  # Adjust the aspect ratio\n",
    "                color_continuous_scale=['red', 'yellow', 'green'])  # Red to Blue color scale, reversed\n",
    "\n",
    "fig.update_layout(title='Win Rates for Pokemon TCG Matchups',\n",
    "                  xaxis_title='Deck 1',\n",
    "                  yaxis_title='Deck 2')\n",
    "\n",
    "st.plotly_chart(fig)"
   ]
  },
  {
   "cell_type": "code",
   "execution_count": null,
   "metadata": {},
   "outputs": [],
   "source": []
  }
 ],
 "metadata": {
  "kernelspec": {
   "display_name": "base",
   "language": "python",
   "name": "python3"
  },
  "language_info": {
   "codemirror_mode": {
    "name": "ipython",
    "version": 3
   },
   "file_extension": ".py",
   "mimetype": "text/x-python",
   "name": "python",
   "nbconvert_exporter": "python",
   "pygments_lexer": "ipython3",
   "version": "3.9.18"
  }
 },
 "nbformat": 4,
 "nbformat_minor": 2
}
