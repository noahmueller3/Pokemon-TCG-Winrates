{
 "cells": [
  {
   "cell_type": "code",
   "execution_count": 20,
   "metadata": {},
   "outputs": [],
   "source": [
    "import pandas as pd\n",
    "import numpy as np\n",
    "name = input(\"name of tourney:\")"
   ]
  },
  {
   "cell_type": "code",
   "execution_count": 21,
   "metadata": {},
   "outputs": [
    {
     "data": {
      "text/html": [
       "<div>\n",
       "<style scoped>\n",
       "    .dataframe tbody tr th:only-of-type {\n",
       "        vertical-align: middle;\n",
       "    }\n",
       "\n",
       "    .dataframe tbody tr th {\n",
       "        vertical-align: top;\n",
       "    }\n",
       "\n",
       "    .dataframe thead th {\n",
       "        text-align: right;\n",
       "    }\n",
       "</style>\n",
       "<table border=\"1\" class=\"dataframe\">\n",
       "  <thead>\n",
       "    <tr style=\"text-align: right;\">\n",
       "      <th></th>\n",
       "      <th>Unnamed: 0</th>\n",
       "      <th>Round 10</th>\n",
       "      <th>Round 11</th>\n",
       "      <th>Round 12</th>\n",
       "      <th>Round 13</th>\n",
       "      <th>Round 14</th>\n",
       "      <th>Round 15</th>\n",
       "      <th>Round 16</th>\n",
       "      <th>Round 17</th>\n",
       "      <th>Round 18</th>\n",
       "    </tr>\n",
       "  </thead>\n",
       "  <tbody>\n",
       "    <tr>\n",
       "      <th>0</th>\n",
       "      <td>0</td>\n",
       "      <td>['Player 1\\nTable #\\nPlayer 2', 'Player 1', 'T...</td>\n",
       "      <td>['Player 1\\nTable #\\nPlayer 2', 'Player 1', 'T...</td>\n",
       "      <td>['Player 1\\nTable #\\nPlayer 2', 'Player 1', 'T...</td>\n",
       "      <td>['Player 1\\nTable #\\nPlayer 2', 'Player 1', 'T...</td>\n",
       "      <td>['Player 1\\nTable #\\nPlayer 2', 'Player 1', 'T...</td>\n",
       "      <td>['Player 1\\nTable #\\nPlayer 2', 'Player 1', 'T...</td>\n",
       "      <td>['Player 1\\nTable #\\nPlayer 2', 'Player 1', 'T...</td>\n",
       "      <td>['Player 1\\nTable #\\nPlayer 2', 'Player 1', 'T...</td>\n",
       "      <td>['Player 1\\nTable #\\nPlayer 2', 'Player 1', 'T...</td>\n",
       "    </tr>\n",
       "  </tbody>\n",
       "</table>\n",
       "</div>"
      ],
      "text/plain": [
       "   Unnamed: 0                                           Round 10  \\\n",
       "0           0  ['Player 1\\nTable #\\nPlayer 2', 'Player 1', 'T...   \n",
       "\n",
       "                                            Round 11  \\\n",
       "0  ['Player 1\\nTable #\\nPlayer 2', 'Player 1', 'T...   \n",
       "\n",
       "                                            Round 12  \\\n",
       "0  ['Player 1\\nTable #\\nPlayer 2', 'Player 1', 'T...   \n",
       "\n",
       "                                            Round 13  \\\n",
       "0  ['Player 1\\nTable #\\nPlayer 2', 'Player 1', 'T...   \n",
       "\n",
       "                                            Round 14  \\\n",
       "0  ['Player 1\\nTable #\\nPlayer 2', 'Player 1', 'T...   \n",
       "\n",
       "                                            Round 15  \\\n",
       "0  ['Player 1\\nTable #\\nPlayer 2', 'Player 1', 'T...   \n",
       "\n",
       "                                            Round 16  \\\n",
       "0  ['Player 1\\nTable #\\nPlayer 2', 'Player 1', 'T...   \n",
       "\n",
       "                                            Round 17  \\\n",
       "0  ['Player 1\\nTable #\\nPlayer 2', 'Player 1', 'T...   \n",
       "\n",
       "                                            Round 18  \n",
       "0  ['Player 1\\nTable #\\nPlayer 2', 'Player 1', 'T...  "
      ]
     },
     "execution_count": 21,
     "metadata": {},
     "output_type": "execute_result"
    }
   ],
   "source": [
    "df = pd.read_csv('Dirty Pokemon Data_'+name+'.csv')\n",
    "df"
   ]
  },
  {
   "cell_type": "code",
   "execution_count": 22,
   "metadata": {},
   "outputs": [],
   "source": [
    "round_10 = df['Round 10']\n",
    "round_11 = df['Round 11']\n",
    "round_12 = df['Round 12']\n",
    "round_13 = df['Round 13']\n",
    "round_14 = df['Round 14']\n",
    "round_15 = df['Round 15']\n",
    "round_16 = df['Round 16']\n",
    "round_17 = df['Round 17']\n",
    "round_18 = df['Round 18']\n",
    "round_10_list = round_10[0][1:].split(\",\")\n",
    "round_11_list = round_11[0][1:].split(\",\")\n",
    "round_12_list = round_12[0][1:].split(\",\")\n",
    "round_13_list = round_13[0][1:].split(\",\")\n",
    "round_14_list = round_14[0][1:].split(\",\")\n",
    "round_15_list = round_15[0][1:].split(\",\")\n",
    "round_16_list = round_16[0][1:].split(\",\")\n",
    "round_17_list = round_17[0][1:].split(\",\")\n",
    "round_18_list = round_18[0][1:].split(\",\")"
   ]
  },
  {
   "cell_type": "code",
   "execution_count": 23,
   "metadata": {},
   "outputs": [],
   "source": [
    "#round 17 excluded due to incomplete data\n",
    "rounds_list = [round_10_list, round_11_list, round_12_list, round_13_list, \n",
    "               round_14_list, round_15_list, round_16_list, round_18_list]\n",
    "\n",
    "player_1 = []\n",
    "player_2 = []\n",
    "for round in rounds_list:\n",
    "    round_minus_header = round[4:]\n",
    "    if round_minus_header[0] == round_minus_header[1]:\n",
    "        ready_round = round_minus_header[4:]\n",
    "    else:\n",
    "        ready_round = round_minus_header\n",
    "    counter = 0\n",
    "    for entry in ready_round:\n",
    "        counter += 1\n",
    "        if counter == 2:\n",
    "            player_1.append(entry.split(r\"\\n\"))\n",
    "        elif counter == 4:\n",
    "            player_2.append(entry.split(r\"\\n\"))\n",
    "            counter = 0\n"
   ]
  },
  {
   "cell_type": "code",
   "execution_count": 24,
   "metadata": {},
   "outputs": [],
   "source": [
    "winner_list = []\n",
    "loser_list = []\n",
    "for i in range(len(player_1)):\n",
    "    if int(player_1[i][2][1]) > int(player_2[i][2][1]):\n",
    "        winner_list.append(player_1[i][0] + \" \" + player_1[i][1].split(\" [\")[0])\n",
    "        loser_list.append(player_2[i][0] + \" \" + player_2[i][1].split(\" [\")[0])\n",
    "    elif int(player_1[i][2][1]) < int(player_2[i][2][1]):\n",
    "        loser_list.append(player_1[i][0] + \" \" + player_1[i][1].split(\" [\")[0])\n",
    "        winner_list.append(player_2[i][0] + \" \" + player_2[i][1].split(\" [\")[0])\n",
    "    \n"
   ]
  },
  {
   "cell_type": "code",
   "execution_count": 25,
   "metadata": {},
   "outputs": [],
   "source": [
    "winner_list_clean = []\n",
    "loser_list_clean = []\n",
    "for winner in winner_list:\n",
    "    winner_list_clean.append((winner[2:len(winner)]).lower())\n",
    "for loser in loser_list:\n",
    "    loser_list_clean.append((loser[2:len(loser)]).lower())                         "
   ]
  },
  {
   "cell_type": "code",
   "execution_count": 26,
   "metadata": {},
   "outputs": [],
   "source": [
    "dictionary = {\"Winners\": winner_list_clean, \"Losers\": loser_list_clean}\n",
    "pd.DataFrame(dictionary).to_csv('Winners and Losers_'+name+'.csv')"
   ]
  },
  {
   "cell_type": "code",
   "execution_count": null,
   "metadata": {},
   "outputs": [],
   "source": []
  }
 ],
 "metadata": {
  "kernelspec": {
   "display_name": "base",
   "language": "python",
   "name": "python3"
  },
  "language_info": {
   "codemirror_mode": {
    "name": "ipython",
    "version": 3
   },
   "file_extension": ".py",
   "mimetype": "text/x-python",
   "name": "python",
   "nbconvert_exporter": "python",
   "pygments_lexer": "ipython3",
   "version": "3.9.18"
  }
 },
 "nbformat": 4,
 "nbformat_minor": 2
}
